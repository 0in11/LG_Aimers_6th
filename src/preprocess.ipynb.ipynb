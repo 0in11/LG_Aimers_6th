{
 "cells": [
  {
   "cell_type": "code",
   "execution_count": null,
   "metadata": {},
   "outputs": [],
   "source": [
    "import pandas as pd\n",
    "from sklearn.preprocessing import LabelEncoder, MinMaxScaler\n",
    "from sklearn.model_selection import train_test_split"
   ]
  },
  {
   "cell_type": "code",
   "execution_count": null,
   "metadata": {},
   "outputs": [],
   "source": [
    "def load_data():\n",
    "    \"\"\"데이터 로드 함수\"\"\"\n",
    "    train = pd.read_csv('data/train.csv')\n",
    "    test = pd.read_csv('data/test.csv')\n",
    "    return train, test\n",
    "\n",
    "def preprocess_data(train_df, test_df):\n",
    "    \"\"\"데이터 전처리 함수\"\"\"\n",
    "    # 제거할 컬럼 목록\n",
    "    columns_to_drop = ['ID', 'PGD 시술 여부', 'PGS 시술 여부', '난자 해동 경과일']\n",
    "    \n",
    "    # 학습 데이터 전처리\n",
    "    train_processed = train_df.copy()\n",
    "    train_processed.drop(columns=columns_to_drop, inplace=True)\n",
    "    train_processed.fillna(0, inplace=True)\n",
    "    \n",
    "    # 범주형 변수 인코딩\n",
    "    categorical_cols = train_processed.select_dtypes(include=[\"object\"]).columns.tolist()\n",
    "    label_encoders = {}\n",
    "    \n",
    "    for col in categorical_cols:\n",
    "        le = LabelEncoder()\n",
    "        train_processed[col] = le.fit_transform(train_processed[col].astype(str))\n",
    "        label_encoders[col] = le\n",
    "    \n",
    "    # 수치형 변수 정규화\n",
    "    target_col = \"임신 성공 여부\"\n",
    "    numeric_cols = [col for col in train_processed.select_dtypes(include=[\"int64\", \"float64\"]).columns \n",
    "                   if col != target_col]\n",
    "    \n",
    "    scaler = MinMaxScaler()\n",
    "    train_processed[numeric_cols] = scaler.fit_transform(train_processed[numeric_cols])\n",
    "    \n",
    "    # 테스트 데이터 전처리\n",
    "    test_processed = test_df.copy()\n",
    "    test_processed.drop(columns=columns_to_drop, inplace=True)\n",
    "    test_processed.fillna(0, inplace=True)\n",
    "    \n",
    "    # 범주형 변수 동일하게 인코딩 적용\n",
    "    for col in categorical_cols:\n",
    "        if col in test_processed.columns and col in label_encoders:\n",
    "            # 학습 데이터에서 학습한 인코더 사용\n",
    "            test_processed[col] = test_processed[col].astype(str)\n",
    "            test_processed[col] = label_encoders[col].transform(test_processed[col])\n",
    "    \n",
    "    # 수치형 변수 동일하게 정규화 적용\n",
    "    test_processed[numeric_cols] = scaler.transform(test_processed[numeric_cols])\n",
    "    \n",
    "    return train_processed, test_processed, label_encoders, scaler\n",
    "\n",
    "if __name__ == \"__main__\":\n",
    "    # 데이터 로드\n",
    "    train_df, test_df = load_data()\n",
    "    \n",
    "    # 데이터 전처리\n",
    "    train_processed, test_processed, label_encoders, scaler = preprocess_data(train_df, test_df)\n",
    "    \n",
    "    # 결과 확인\n",
    "    print(f\"학습 데이터 형태: {train_processed.shape}\")\n",
    "    print(f\"테스트 데이터 형태: {test_processed.shape}\")"
   ]
  }
 ],
 "metadata": {
  "kernelspec": {
   "display_name": "Python 3",
   "language": "python",
   "name": "python3"
  },
  "language_info": {
   "name": "python",
   "version": "3.11.9"
  }
 },
 "nbformat": 4,
 "nbformat_minor": 2
}
